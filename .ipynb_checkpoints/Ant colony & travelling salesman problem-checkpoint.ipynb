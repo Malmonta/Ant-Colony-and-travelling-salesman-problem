{
 "cells": [
  {
   "cell_type": "code",
   "execution_count": 7,
   "metadata": {},
   "outputs": [],
   "source": [
    "#Les import\n",
    "%matplotlib inline\n",
    "import matplotlib.pyplot as plt\n",
    "import matplotlib.gridspec as gridspec\n",
    "from matplotlib import animation\n",
    "\n",
    "import scipy.interpolate as sp\n",
    "import random as rn\n",
    "import numpy as np\n",
    "from numpy.random import choice as np_choice"
   ]
  },
  {
   "cell_type": "code",
   "execution_count": 2,
   "metadata": {},
   "outputs": [],
   "source": [
    "#Déclaration de la classe Ant colony\n",
    "class AntColony(object):\n",
    "\n",
    "    def __init__(self, distances, n_ants, n_best, n_iterations, decay, alpha=1, beta=1):\n",
    "        \"\"\"\n",
    "        Args:\n",
    "            distances (2D numpy.array): Square matrix of distances. Diagonal is assumed to be np.inf.\n",
    "            n_ants (int): Number of ants running per iteration\n",
    "            n_best (int): Number of best ants who deposit pheromone\n",
    "            n_iteration (int): Number of iterations\n",
    "            decay (float): Rate it which pheromone decays. The pheromone value is multiplied by decay, so 0.95 will lead to decay, 0.5 to much faster decay.\n",
    "            alpha (int or float): exponenet on pheromone, higher alpha gives pheromone more weight. Default=1\n",
    "            beta (int or float): exponent on distance, higher beta give distance more weight. Default=1\n",
    "\n",
    "        Example:\n",
    "            ant_colony = AntColony(german_distances, 100, 20, 2000, 0.95, alpha=1, beta=2)          \n",
    "        \"\"\"\n",
    "        self.distances  = distances\n",
    "        self.pheromone = np.ones(self.distances.shape) / len(distances)\n",
    "        self.all_inds = range(len(distances))\n",
    "        self.n_ants = n_ants\n",
    "        self.n_best = n_best\n",
    "        self.n_iterations = n_iterations\n",
    "        self.decay = decay\n",
    "        self.alpha = alpha\n",
    "        self.beta = beta\n",
    "\n",
    "    def run(self):\n",
    "        shortest_path = None\n",
    "        all_time_shortest_path = (\"placeholder\", np.inf)\n",
    "        for i in range(self.n_iterations):\n",
    "            all_paths = self.gen_all_paths()\n",
    "            self.spread_pheronome(all_paths, self.n_best, shortest_path=shortest_path)\n",
    "            shortest_path = min(all_paths, key=lambda x: x[1])\n",
    "            #print (shortest_path)\n",
    "            if shortest_path[1] < all_time_shortest_path[1]:\n",
    "                all_time_shortest_path = shortest_path            \n",
    "            self.pheromone * self.decay            \n",
    "        return all_time_shortest_path\n",
    "\n",
    "    def spread_pheronome(self, all_paths, n_best, shortest_path):\n",
    "        sorted_paths = sorted(all_paths, key=lambda x: x[1])\n",
    "        for path, dist in sorted_paths[:n_best]:\n",
    "            for move in path:\n",
    "                self.pheromone[move] += 1.0 / self.distances[move]\n",
    "\n",
    "    def gen_path_dist(self, path):\n",
    "        total_dist = 0\n",
    "        for ele in path:\n",
    "            total_dist += self.distances[ele]\n",
    "        return total_dist\n",
    "\n",
    "    def gen_all_paths(self):\n",
    "        all_paths = []\n",
    "        for i in range(self.n_ants):\n",
    "            path = self.gen_path(0)\n",
    "            all_paths.append((path, self.gen_path_dist(path)))\n",
    "        return all_paths\n",
    "\n",
    "    def gen_path(self, start):\n",
    "        path = []\n",
    "        visited = set()\n",
    "        visited.add(start)\n",
    "        prev = start\n",
    "        for i in range(len(self.distances) - 1):\n",
    "            move = self.pick_move(self.pheromone[prev], self.distances[prev], visited)\n",
    "            path.append((prev, move))\n",
    "            prev = move\n",
    "            visited.add(move)\n",
    "        path.append((prev, start)) # going back to where we started    \n",
    "        return path\n",
    "\n",
    "    def pick_move(self, pheromone, dist, visited):\n",
    "        pheromone = np.copy(pheromone)\n",
    "        pheromone[list(visited)] = 0\n",
    "\n",
    "        row = pheromone ** self.alpha * (( 1.0 / dist) ** self.beta)\n",
    "\n",
    "        norm_row = row / row.sum()\n",
    "        move = np_choice(self.all_inds, 1, p=norm_row)[0]\n",
    "        return move\n",
    "\n",
    "\n"
   ]
  },
  {
   "cell_type": "code",
   "execution_count": 3,
   "metadata": {},
   "outputs": [
    {
     "name": "stdout",
     "output_type": "stream",
     "text": [
      "shorted_path: ([(0, 2), (2, 3), (3, 4), (4, 1), (1, 0)], 9.0)\n"
     ]
    }
   ],
   "source": [
    "#Premier exemple simple\n",
    "distances = np.array([[np.inf, 2, 2, 5, 7],\n",
    "                      [2, np.inf, 4, 8, 2],\n",
    "                      [2, 4, np.inf, 1, 3],\n",
    "                      [5, 8, 1, np.inf, 2],\n",
    "                      [7, 2, 3, 2, np.inf]])\n",
    "\n",
    "ant_colony = AntColony(distances, 10, 2, 100, 0.95, alpha=1, beta=1)\n",
    "shortest_path = ant_colony.run()\n",
    "print (\"shorted_path: {}\".format(shortest_path))"
   ]
  },
  {
   "cell_type": "markdown",
   "metadata": {},
   "source": [
    "# Problème du voyageur de commerce"
   ]
  },
  {
   "cell_type": "code",
   "execution_count": 11,
   "metadata": {},
   "outputs": [],
   "source": [
    "## Déclaration des variables\n",
    "#Les villes\n",
    "cities = \"\"\"\n",
    "Amsterdam Athens    Barcelona Berlin   Bucarest  Budapest Brussels Copenhagen\n",
    "Dublin    Edinburgh Gibraltar Helsinki Istanbul  Kiev     Lisbon   London\n",
    "Madrid    Milan     Moscow    Munich   Nantes    Oslo     Paris    Prague\n",
    "Reykjavik Riga      Rome      Sofia    Stockholm Toulouse Vilnius  Warsaw\n",
    "\"\"\"\n",
    "\n",
    "cities = cities.split()\n",
    "#Les distances entre les villes\n",
    "__file = \"temp.npy\"\n",
    "distances_city = np.load(__file)\n",
    "for i in range(len(distances_city)):\n",
    "    distances_city[i,i] = np.inf\n",
    "\n",
    "#Les positions des villes\n",
    "res = np.array([[-0.0028343 ,  0.00193624],\n",
    "       [ 0.02408592, -0.02585343],\n",
    "       [-0.00897912, -0.0193791 ],\n",
    "       [ 0.00754416,  0.00179419],\n",
    "       [ 0.0257134 , -0.01256833],\n",
    "       [ 0.01527667, -0.00783831],\n",
    "       [-0.00382835, -0.00101698],\n",
    "       [ 0.00647134,  0.00807388],\n",
    "       [-0.01570197,  0.00618319],\n",
    "       [-0.01105894,  0.01044891],\n",
    "       [-0.02232285, -0.02750983],\n",
    "       [ 0.01866317,  0.0181626 ],\n",
    "       [ 0.03113214, -0.01842927],\n",
    "       [ 0.02906299,  0.00049091],\n",
    "       [-0.02698596, -0.02109471],\n",
    "       [-0.00924251,  0.00105269],\n",
    "       [-0.01811134, -0.01976595],\n",
    "       [ 0.00182926, -0.0122141 ],\n",
    "       [ 0.03392031,  0.01326964],\n",
    "       [ 0.00524756, -0.00697461],\n",
    "       [-0.0125184 , -0.00702664],\n",
    "       [ 0.0045908 ,  0.01647617],\n",
    "       [-0.00691007, -0.00465357],\n",
    "       [ 0.00894685, -0.00302529],\n",
    "       [-0.0227144 ,  0.03190754],\n",
    "       [ 0.01895345,  0.01164758],\n",
    "       [ 0.00647134, -0.01934432],\n",
    "       [ 0.02227401, -0.0166067 ],\n",
    "       [ 0.01201279,  0.0155904 ],\n",
    "       [-0.00949691, -0.01484433],\n",
    "       [ 0.0210391 ,  0.00743915],\n",
    "       [ 0.0168174 ,  0.00182746]])"
   ]
  },
  {
   "cell_type": "markdown",
   "metadata": {},
   "source": [
    "Pour simplifier, on va réduire un peu les données"
   ]
  },
  {
   "cell_type": "code",
   "execution_count": 12,
   "metadata": {},
   "outputs": [],
   "source": [
    "n = len(cities)\n",
    "n1 = 10\n",
    "cities = cities[:n1]\n",
    "distances_city = distances_city[:n1,:n1]\n",
    "res = res[:n1,:]"
   ]
  },
  {
   "cell_type": "markdown",
   "metadata": {},
   "source": [
    "Maintenant, on va tourner le modèle"
   ]
  },
  {
   "cell_type": "code",
   "execution_count": 13,
   "metadata": {},
   "outputs": [
    {
     "name": "stdout",
     "output_type": "stream",
     "text": [
      "shorted_path: ([(0, 6), (6, 7), (7, 3), (3, 5), (5, 4), (4, 1), (1, 2), (2, 8), (8, 9), (9, 0)], 0.1384560908921497)\n"
     ]
    }
   ],
   "source": [
    "ant_colony = AntColony(distances_city, 20, 5, 100, 0.95, alpha=1, beta=1)\n",
    "shortest_path = ant_colony.run()\n",
    "print (\"shorted_path: {}\".format(shortest_path))"
   ]
  },
  {
   "cell_type": "code",
   "execution_count": 18,
   "metadata": {},
   "outputs": [
    {
     "name": "stdout",
     "output_type": "stream",
     "text": [
      "Le plus court chemin est : Amsterdam-Brussels-Copenhagen-Berlin-Budapest-Bucarest-Athens-Barcelona-Dublin-Edinburgh-Amsterdam\n"
     ]
    }
   ],
   "source": [
    "text_parcours = \"\"\n",
    "for i in range(len(distances_city)):\n",
    "    text_parcours += cities[shortest_path[0][i][0]]+\"-\"\n",
    "text_parcours += cities[0]\n",
    "print(\"Le plus court chemin est : \"+text_parcours)"
   ]
  },
  {
   "cell_type": "code",
   "execution_count": 19,
   "metadata": {},
   "outputs": [
    {
     "data": {
      "image/png": "[encoded data removed]",
      "text/plain": [
       "<Figure size 720x720 with 1 Axes>"
      ]
     },
     "metadata": {
      "needs_background": "light"
     },
     "output_type": "display_data"
    }
   ],
   "source": [
    "#Affichage\n",
    "fig = plt.figure(figsize=(10, 10))\n",
    "ax = fig.gca()\n",
    "ax.set_xticklabels([])\n",
    "ax.set_yticklabels([])\n",
    "ax.set_axis_off()\n",
    "\n",
    "\n",
    "# Trimming the final image\n",
    "\n",
    "bx = min(res[:, 0]), max(res[:, 0])\n",
    "dx = bx[1] - bx[0]\n",
    "ax.set_xlim(bx[0] - .1*dx, bx[1] + .1*dx)\n",
    "\n",
    "by = min(res[:, 1]), max(res[:, 1])\n",
    "dy = by[1] - by[0]\n",
    "ax.set_ylim(by[0] - .1*dy, by[1] + .1*dy)\n",
    "\n",
    "# label placement: subject to automatic optimization!\n",
    "from collections import defaultdict\n",
    "d = defaultdict(lambda: {'ha': \"left\", 'va': \"bottom\"})\n",
    "\n",
    "for city in [\"Barcelona\", \"Berlin\", \"Bucarest\", \"Budapest\",\n",
    "             \"Istanbul\", \"Prague\", \"Reykjavik\", \"Sofia\", ]:\n",
    "    d[city] = {'ha': \"left\", 'va': \"top\"}\n",
    "for city in [\"Athens\", \"London\", \"Munich\",  \"Milan\",\n",
    "             \"Stockholm\", ]:\n",
    "    d[city] = {'ha': \"right\", 'va': \"top\"}\n",
    "for city in [\"Copenhagen\", \"Dublin\", \"Edinburgh\", \"Gibraltar\",\n",
    "             \"Helsinki\", \"Lisbon\", \"Madrid\", \"Nantes\", \"Oslo\",\n",
    "             \"Paris\", \"Toulouse\", ]:\n",
    "    d[city] = {'ha': \"right\", 'va': \"bottom\"}\n",
    "    \n",
    "# automatic colouring\n",
    "colors = plt.cm.rainbow(np.linspace(0, 1, n))\n",
    "    \n",
    "for i, ((x, y), city, color) in enumerate(zip(res, cities, colors)):\n",
    "    #t = np.array([t[i, :] for t in track])\n",
    "    #ax.plot(t[:, 0], t[:, 1], color=color, alpha=.2)\n",
    "    ax.scatter(x, y, color=color)\n",
    "    ax.annotate(\"  \" + city + \"  \", (x, y), **d[city])\n",
    "for i in range(n1):\n",
    "    city1 = np.array([res[shortest_path[0][i][0]][0], res[shortest_path[0][i][1]][0]])\n",
    "    city2 = np.array([res[shortest_path[0][i][0]][1], res[shortest_path[0][i][1]][1]])\n",
    "    ax.plot(city1,city2,'-.')\n",
    "    # Wait for 5 seconds\n",
    "    #time.sleep(2)\n",
    "    #ax.arrow(city1[0],city2[0],city1[1],city2[1])"
   ]
  }
 ],
 "metadata": {
  "kernelspec": {
   "display_name": "Python 3",
   "language": "python",
   "name": "python3"
  },
  "language_info": {
   "codemirror_mode": {
    "name": "ipython",
    "version": 3
   },
   "file_extension": ".py",
   "mimetype": "text/x-python",
   "name": "python",
   "nbconvert_exporter": "python",
   "pygments_lexer": "ipython3",
   "version": "3.7.0"
  }
 },
 "nbformat": 4,
 "nbformat_minor": 2
}
